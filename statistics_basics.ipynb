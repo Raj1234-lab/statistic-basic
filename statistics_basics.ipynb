{
  "nbformat": 4,
  "nbformat_minor": 0,
  "metadata": {
    "colab": {
      "provenance": []
    },
    "kernelspec": {
      "name": "python3",
      "display_name": "Python 3"
    },
    "language_info": {
      "name": "python"
    }
  },
  "cells": [
    {
      "cell_type": "markdown",
      "source": [
        "Question1: What is the difference between descriptive statistics and inferential\n",
        "statistics? Explain with examples.\n",
        "\n",
        "Answer: Descriptive statistics summarize and describe the characteristics of a known dataset using measures like mean, median, and standard deviation,\n",
        "\n",
        "while inferential statistics use a sample to make predictions, test hypotheses, and draw conclusions about a larger, unobserved population.\n",
        "\n",
        "For example, calculating the average score of a single class is descriptive, whereas using that class's average to estimate the average score of all students in the state is inferential.\n",
        "\n"
      ],
      "metadata": {
        "id": "8_AErvZgOi9R"
      }
    },
    {
      "cell_type": "markdown",
      "source": [
        "Question 2: What is sampling in statistics? Explain the differences between random\n",
        "and stratified sampling.\n",
        "Answer: Sampling in statistics is the process of selecting a subset of individuals or data points from a larger population to make inferences about the entire population more efficiently,\n",
        "\n",
        "The Difference between simple random sampling and simple stratified sampling,\n",
        "\n",
        "Simple random sample - It is used to represent the entire data population. It randomly selects individuals from the population without any other consideration.\n",
        "\n",
        "Stratified random samples - It are used with populations that can be easily broken into different subgroups or subsets based on certain criteria. Samples are randomly chosen from each proportional to the group’s size versus the population.\n",
        "\n",
        "\n"
      ],
      "metadata": {
        "id": "gLuext0mQpE9"
      }
    },
    {
      "cell_type": "markdown",
      "source": [
        "Question 3: Define mean, median, and mode. Explain why these measures of central\n",
        "tendency are important.\n",
        "\n",
        "Answer : Mean, median, and mode are statistical measures that describe the \"center\" or central tendency of a dataset.\n",
        "\n",
        "The mean is the arithmetic average, found by summing all values and dividing by the count of values.\n",
        "\n",
        "The median is the middle value when the data is arranged in order.\n",
        "\n",
        "The mode is the value that appears most frequently in the dataset.\n",
        "\n",
        "Measures of central tendency (like mean, median, and mode) are important because they summarize complex data into a single, representative value, making large datasets easier to understand and analyze.\n",
        ""
      ],
      "metadata": {
        "id": "s9Bt17wBSqDc"
      }
    },
    {
      "cell_type": "markdown",
      "source": [
        "Question 4: Explain skewness and kurtosis. What does a positive skew imply about the\n",
        "data?\n",
        "\n",
        "Answer : Skewness measures a distribution's asymmetry, indicating if data leans to one side,\n",
        "\n",
        "Kurtosis measures the \"tailedness\" and peak sharpness of a distribution,\n",
        "\n",
        "A positive skew implies a longer right tail, meaning most data points are on the left, with a few high outliers on the right, causing the mean to be greater than the median and mode.\n"
      ],
      "metadata": {
        "id": "RJYFlpDQVJL8"
      }
    },
    {
      "cell_type": "markdown",
      "source": [
        "Question5:: Implement a Python program to compute the mean, median, and mode of\n",
        "a given list of numbers.\n",
        "numbers = [12, 15, 12, 18, 19, 12, 20, 22, 19, 19, 24, 24, 24, 26, 28]."
      ],
      "metadata": {
        "id": "dp-8yx6LV8ye"
      }
    },
    {
      "cell_type": "code",
      "source": [
        "import statistics\n",
        "\n",
        "numbers = [12, 15, 12, 18, 19, 12, 20, 22, 19, 19, 24, 24, 24, 26, 28]\n",
        "numbers.sort()\n",
        "\n",
        "print(f\"Numbers: {numbers}\")\n",
        "print(f\"Mean: {results['mean']}\")\n",
        "print(f\"Median: {results['median']}\")\n",
        "print(f\"Mode: {results['mode']}\")"
      ],
      "metadata": {
        "colab": {
          "base_uri": "https://localhost:8080/"
        },
        "id": "A841lUtEXga6",
        "outputId": "222944f7-fd6d-4242-f7f0-fa622808e86b"
      },
      "execution_count": 5,
      "outputs": [
        {
          "output_type": "stream",
          "name": "stdout",
          "text": [
            "Numbers: [12, 12, 12, 15, 18, 19, 19, 19, 20, 22, 24, 24, 24, 26, 28]\n",
            "Mean: 19.6\n",
            "Median: 19\n",
            "Mode: 12\n"
          ]
        }
      ]
    },
    {
      "cell_type": "markdown",
      "source": [
        "Question 6: Compute the covariance and correlation coefficient between the following\n",
        "two datasets provided as lists in Python:\n",
        "list_x = [10, 20, 30, 40, 50]\n",
        "list_y = [15, 25, 35, 45, 60]\n"
      ],
      "metadata": {
        "id": "UAa50or3ZEn-"
      }
    },
    {
      "cell_type": "code",
      "source": [
        "import numpy as np\n",
        "\n",
        "list_x = [10, 20, 30, 40, 50]\n",
        "list_y = [15, 25, 35, 45, 60]\n",
        "\n",
        "cov_matrix = np.cov(list_x, list_y)\n",
        "cov_xy = cov_matrix[0][1]\n",
        "\n",
        "corr_matrix = np.corrcoef(list_x, list_y)\n",
        "corr_xy = corr_matrix[0][1]\n",
        "\n",
        "print(\"Covariance:\", cov_xy)\n",
        "print(\"Correlation Coefficient:\", corr_xy)\n"
      ],
      "metadata": {
        "colab": {
          "base_uri": "https://localhost:8080/"
        },
        "id": "1Ae_1Ch8eLF0",
        "outputId": "871a925a-12e9-4331-b235-2e7ae97f09b9"
      },
      "execution_count": 6,
      "outputs": [
        {
          "output_type": "stream",
          "name": "stdout",
          "text": [
            "Covariance: 275.0\n",
            "Correlation Coefficient: 0.995893206467704\n"
          ]
        }
      ]
    },
    {
      "cell_type": "markdown",
      "source": [
        "Question 7: Write a Python script to draw a boxplot for the following numeric list and\n",
        "identify its outliers. Explain the result:\n",
        "data = [12, 14, 14, 15, 18, 19, 19, 21, 22, 22, 23, 23, 24, 26, 29, 35]"
      ],
      "metadata": {
        "id": "mUPqlJCaejpX"
      }
    },
    {
      "cell_type": "code",
      "source": [
        "import matplotlib.pyplot as plt\n",
        "import seaborn as sns\n",
        "import numpy as np\n",
        "\n",
        "data = [12, 14, 14, 15, 18, 19, 19, 21, 22, 22, 23, 23, 24, 26, 29, 35]\n",
        "\n",
        "plt.figure(figsize=(8, 4))\n",
        "sns.boxplot(data, orient='h', color='skyblue')\n",
        "plt.title(\"Boxplot of Data with Outlier Detection\")\n",
        "plt.xlabel(\"Value\")\n",
        "plt.grid(True)\n",
        "plt.show()\n",
        "\n",
        "Q1 = np.percentile(data, 25)\n",
        "Q3 = np.percentile(data, 75)\n",
        "IQR = Q3 - Q1\n",
        "\n",
        "lower_bound = Q1 - 1.5 * IQR\n",
        "upper_bound = Q3 + 1.5 * IQR\n",
        "\n",
        "outliers = [x for x in data if x < lower_bound or x > upper_bound]\n",
        "\n",
        "print(f\"Q1 = {Q1}\")\n",
        "print(f\"Q3 = {Q3}\")\n",
        "print(f\"IQR = {IQR}\")\n",
        "print(f\"Lower Bound = {lower_bound}\")\n",
        "print(f\"Upper Bound = {upper_bound}\")\n",
        "print(f\"Outliers = {outliers}\")\n"
      ],
      "metadata": {
        "colab": {
          "base_uri": "https://localhost:8080/",
          "height": 517
        },
        "id": "SrbDMrArerK_",
        "outputId": "80fb2289-9e56-4250-8117-205927fc2b98"
      },
      "execution_count": 8,
      "outputs": [
        {
          "output_type": "display_data",
          "data": {
            "text/plain": [
              "<Figure size 800x400 with 1 Axes>"
            ],
            "image/png": "[encoded data removed]"
          },
          "metadata": {}
        },
        {
          "output_type": "stream",
          "name": "stdout",
          "text": [
            "Q1 = 17.25\n",
            "Q3 = 23.25\n",
            "IQR = 6.0\n",
            "Lower Bound = 8.25\n",
            "Upper Bound = 32.25\n",
            "Outliers = [35]\n"
          ]
        }
      ]
    },
    {
      "cell_type": "markdown",
      "source": [
        "Question 8: You are working as a data analyst in an e-commerce company. The\n",
        "marketing team wants to know if there is a relationship between advertising spend and\n",
        "daily sales.\n",
        "● Explain how you would use covariance and correlation to explore this\n",
        "relationship.\n",
        "● Write Python code to compute the correlation between the two lists:\n",
        "advertising_spend = [200, 250, 300, 400, 500]\n",
        "daily_sales = [2200, 2450, 2750, 3200, 4000]\n"
      ],
      "metadata": {
        "id": "OYeUFyNGfPw1"
      }
    },
    {
      "cell_type": "markdown",
      "source": [
        "Answer ;\n",
        "\n",
        "Covariance: It gives about the the direction of the relationship (positive/negative).\n",
        "\n",
        "Correlation coefficient: It imlies how strong and in what direction the linear relationship is.\n",
        "\n",
        "If the correlation is close to 1, this would indicate that higher ad spend is strongly associated with higher sales, which is valuable insight for the marketing team."
      ],
      "metadata": {
        "id": "idhmi1orfuaD"
      }
    },
    {
      "cell_type": "code",
      "source": [
        "import numpy as np\n",
        "\n",
        "advertising_spend = [200, 250, 300, 400, 500]\n",
        "daily_sales = [2200, 2450, 2750, 3200, 4000]\n",
        "\n",
        "ad_spend = np.array(advertising_spend)\n",
        "sales = np.array(daily_sales)\n",
        "\n",
        "cov_matrix = np.cov(ad_spend, sales)\n",
        "covariance = cov_matrix[0, 1]\n",
        "\n",
        "correlation_matrix = np.corrcoef(ad_spend, sales)\n",
        "correlation = correlation_matrix[0, 1]\n",
        "\n",
        "print(\"Covariance:\", covariance)\n",
        "print(\"Correlation coefficient:\", correlation)\n"
      ],
      "metadata": {
        "colab": {
          "base_uri": "https://localhost:8080/"
        },
        "id": "01GicotegK5n",
        "outputId": "fabc37bc-ac97-4948-bcba-b8210f9fa4af"
      },
      "execution_count": 9,
      "outputs": [
        {
          "output_type": "stream",
          "name": "stdout",
          "text": [
            "Covariance: 84875.0\n",
            "Correlation coefficient: 0.9935824101653329\n"
          ]
        }
      ]
    },
    {
      "cell_type": "markdown",
      "source": [
        "Question 9: Your team has collected customer satisfaction survey data on a scale of\n",
        "1-10 and wants to understand its distribution before launching a new product.\n",
        "● Explain which summary statistics and visualizations (e.g. mean, standard\n",
        "deviation, histogram) you’d use.\n",
        "● Write Python code to create a histogram using Matplotlib for the survey data:\n",
        "survey_scores = [7, 8, 5, 9, 6, 7, 8, 9, 10, 4, 7, 6, 9, 8, 7]\n"
      ],
      "metadata": {
        "id": "3AjUfIQ6gc_M"
      }
    },
    {
      "cell_type": "markdown",
      "source": [
        "Answer: I use histogram to represent this data beacause it is single set of information which represent the frequency of scores in intervals"
      ],
      "metadata": {
        "id": "WZTu0MlDh19v"
      }
    },
    {
      "cell_type": "code",
      "source": [
        "import matplotlib.pyplot as plt\n",
        "\n",
        "survey_scores = [7, 8, 5, 9, 6, 7, 8, 9, 10, 4, 7, 6, 9, 8, 7]\n",
        "survey_scores.sort()\n",
        "\n",
        "plt.hist(survey_scores, bins=range(1, 12), edgecolor='black', align='left')\n",
        "plt.title('Customer Satisfaction Survey Distribution')\n",
        "plt.xlabel('Satisfaction Score')\n",
        "plt.ylabel('Frequency')\n",
        "\n",
        "plt.xticks(range(1, 11))\n",
        "plt.grid(axis='y', linestyle='--', alpha=0.7)\n",
        "plt.show()\n"
      ],
      "metadata": {
        "colab": {
          "base_uri": "https://localhost:8080/",
          "height": 472
        },
        "id": "Z_gRJfokiela",
        "outputId": "91e40da5-ca13-45bf-cc0f-519ae78e1247"
      },
      "execution_count": 10,
      "outputs": [
        {
          "output_type": "display_data",
          "data": {
            "text/plain": [
              "<Figure size 640x480 with 1 Axes>"
            ],
            "image/png": "[encoded data removed]"
          },
          "metadata": {}
        }
      ]
    },
    {
      "cell_type": "code",
      "source": [],
      "metadata": {
        "id": "ov27nONHjC-T"
      },
      "execution_count": null,
      "outputs": []
    }
  ]
}